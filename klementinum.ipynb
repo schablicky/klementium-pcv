{
 "cells": [
  {
   "cell_type": "code",
   "execution_count": 1,
   "id": "5c6e4780-c186-4e8f-8cfd-666c4d62538e",
   "metadata": {},
   "outputs": [
    {
     "name": "stderr",
     "output_type": "stream",
     "text": [
      "C:\\Users\\student\\AppData\\Local\\Temp\\ipykernel_9264\\3507616545.py:1: DeprecationWarning: \n",
      "Pyarrow will become a required dependency of pandas in the next major release of pandas (pandas 3.0),\n",
      "(to allow more performant data types, such as the Arrow string type, and better interoperability with other libraries)\n",
      "but was not found to be installed on your system.\n",
      "If this would cause problems for you,\n",
      "please provide us feedback at https://github.com/pandas-dev/pandas/issues/54466\n",
      "        \n",
      "  import pandas as pd\n"
     ]
    }
   ],
   "source": [
    "import pandas as pd\n",
    "import matplotlib\n",
    "matplotlib.use('TkAgg')\n",
    "import matplotlib.pyplot as plt\n",
    "from temperatureanalytics import TemperatureAnalytics\n",
    "\n",
    "data_path = 'klementinum.xlsx'\n",
    "data_sheet_name = 'data'\n",
    "temperature_data = pd.read_excel(data_path, sheet_name=data_sheet_name)"
   ]
  },
  {
   "cell_type": "code",
   "execution_count": 3,
   "id": "3f49bd00-750e-409c-a168-22fed57edd78",
   "metadata": {},
   "outputs": [
    {
     "name": "stdout",
     "output_type": "stream",
     "text": [
      "1 - Zobrazit průměrnou teplotu pro zadaný rok\n",
      "2 - Zobrazit minimální a maximální teplotu pro zadaný rok\n",
      "3 - Zobrazit měsíční průměry pro zadaný rok\n",
      "4 - Vykreslit průměrné roční teploty\n",
      "5 - Vykreslit minimální a maximální teploty pro konkrétní den\n",
      "0 - Konec\n"
     ]
    },
    {
     "name": "stdin",
     "output_type": "stream",
     "text": [
      "Zvolte možnost 0\n"
     ]
    },
    {
     "name": "stdout",
     "output_type": "stream",
     "text": [
      "0\n"
     ]
    }
   ],
   "source": [
    "temperature_analytics = TemperatureAnalytics(temperature_data)\n",
    "\n",
    "volba = temperature_analytics.menu()\n",
    "\n",
    "print(volba)"
   ]
  }
 ],
 "metadata": {
  "kernelspec": {
   "display_name": "Python 3 (ipykernel)",
   "language": "python",
   "name": "python3"
  },
  "language_info": {
   "codemirror_mode": {
    "name": "ipython",
    "version": 3
   },
   "file_extension": ".py",
   "mimetype": "text/x-python",
   "name": "python",
   "nbconvert_exporter": "python",
   "pygments_lexer": "ipython3",
   "version": "3.11.3"
  }
 },
 "nbformat": 4,
 "nbformat_minor": 5
}
